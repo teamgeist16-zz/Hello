{
 "cells": [
  {
   "cell_type": "code",
   "execution_count": 1,
   "metadata": {
    "collapsed": true
   },
   "outputs": [],
   "source": [
    "import pandas as pd\n",
    "import numpy as np\n",
    "\n",
    "flights = pd.read_csv('flights3withDelay_Group2.csv')\n",
    "flights = pd.DataFrame(flights)"
   ]
  },
  {
   "cell_type": "code",
   "execution_count": 2,
   "metadata": {
    "collapsed": false
   },
   "outputs": [
    {
     "data": {
      "text/html": [
       "<div>\n",
       "<table border=\"1\" class=\"dataframe\">\n",
       "  <thead>\n",
       "    <tr style=\"text-align: right;\">\n",
       "      <th></th>\n",
       "      <th>Unnamed: 0</th>\n",
       "      <th>Unnamed: 0.1</th>\n",
       "      <th>index</th>\n",
       "      <th>Unnamed: 0.1</th>\n",
       "      <th>AIRLINE</th>\n",
       "      <th>N-NUMBER</th>\n",
       "      <th>ORIGIN_AIRPORT</th>\n",
       "      <th>ARRIVAL_DELAY</th>\n",
       "      <th>DAY_COUNT</th>\n",
       "      <th>SCHEDULED_DEPARTURE</th>\n",
       "      <th>YEAR MFR</th>\n",
       "      <th>NO-SEATS</th>\n",
       "      <th>Delay_Group</th>\n",
       "    </tr>\n",
       "  </thead>\n",
       "  <tbody>\n",
       "    <tr>\n",
       "      <th>0</th>\n",
       "      <td>0</td>\n",
       "      <td>104</td>\n",
       "      <td>104</td>\n",
       "      <td>104</td>\n",
       "      <td>EV</td>\n",
       "      <td>14998</td>\n",
       "      <td>ATL</td>\n",
       "      <td>14.0</td>\n",
       "      <td>1</td>\n",
       "      <td>5</td>\n",
       "      <td>2000</td>\n",
       "      <td>32.0</td>\n",
       "      <td>Upto 15 mins</td>\n",
       "    </tr>\n",
       "    <tr>\n",
       "      <th>1</th>\n",
       "      <td>1</td>\n",
       "      <td>288</td>\n",
       "      <td>288</td>\n",
       "      <td>288</td>\n",
       "      <td>F9</td>\n",
       "      <td>949FR</td>\n",
       "      <td>ATL</td>\n",
       "      <td>24.0</td>\n",
       "      <td>1</td>\n",
       "      <td>6</td>\n",
       "      <td>2006</td>\n",
       "      <td>147.0</td>\n",
       "      <td>15 to 30 mins</td>\n",
       "    </tr>\n",
       "    <tr>\n",
       "      <th>2</th>\n",
       "      <td>2</td>\n",
       "      <td>665</td>\n",
       "      <td>665</td>\n",
       "      <td>665</td>\n",
       "      <td>DL</td>\n",
       "      <td>918DL</td>\n",
       "      <td>ATL</td>\n",
       "      <td>8.0</td>\n",
       "      <td>1</td>\n",
       "      <td>6</td>\n",
       "      <td>1988</td>\n",
       "      <td>240.0</td>\n",
       "      <td>Upto 15 mins</td>\n",
       "    </tr>\n",
       "    <tr>\n",
       "      <th>3</th>\n",
       "      <td>3</td>\n",
       "      <td>681</td>\n",
       "      <td>681</td>\n",
       "      <td>681</td>\n",
       "      <td>OO</td>\n",
       "      <td>792SK</td>\n",
       "      <td>ATL</td>\n",
       "      <td>7.0</td>\n",
       "      <td>1</td>\n",
       "      <td>6</td>\n",
       "      <td>2009</td>\n",
       "      <td>40.0</td>\n",
       "      <td>Upto 15 mins</td>\n",
       "    </tr>\n",
       "    <tr>\n",
       "      <th>4</th>\n",
       "      <td>4</td>\n",
       "      <td>742</td>\n",
       "      <td>742</td>\n",
       "      <td>742</td>\n",
       "      <td>DL</td>\n",
       "      <td>555NW</td>\n",
       "      <td>ATL</td>\n",
       "      <td>-7.0</td>\n",
       "      <td>1</td>\n",
       "      <td>6</td>\n",
       "      <td>2002</td>\n",
       "      <td>149.0</td>\n",
       "      <td>On Time</td>\n",
       "    </tr>\n",
       "  </tbody>\n",
       "</table>\n",
       "</div>"
      ],
      "text/plain": [
       "   Unnamed: 0  Unnamed: 0.1  index  Unnamed: 0.1 AIRLINE N-NUMBER  \\\n",
       "0           0           104    104           104      EV    14998   \n",
       "1           1           288    288           288      F9    949FR   \n",
       "2           2           665    665           665      DL    918DL   \n",
       "3           3           681    681           681      OO    792SK   \n",
       "4           4           742    742           742      DL    555NW   \n",
       "\n",
       "  ORIGIN_AIRPORT  ARRIVAL_DELAY  DAY_COUNT  SCHEDULED_DEPARTURE YEAR MFR  \\\n",
       "0            ATL           14.0          1                    5     2000   \n",
       "1            ATL           24.0          1                    6     2006   \n",
       "2            ATL            8.0          1                    6     1988   \n",
       "3            ATL            7.0          1                    6     2009   \n",
       "4            ATL           -7.0          1                    6     2002   \n",
       "\n",
       "   NO-SEATS    Delay_Group  \n",
       "0      32.0   Upto 15 mins  \n",
       "1     147.0  15 to 30 mins  \n",
       "2     240.0   Upto 15 mins  \n",
       "3      40.0   Upto 15 mins  \n",
       "4     149.0        On Time  "
      ]
     },
     "execution_count": 2,
     "metadata": {},
     "output_type": "execute_result"
    }
   ],
   "source": [
    "flights.head()"
   ]
  },
  {
   "cell_type": "code",
   "execution_count": 3,
   "metadata": {
    "collapsed": false
   },
   "outputs": [],
   "source": [
    "flights.dropna(axis=0, inplace=True)"
   ]
  },
  {
   "cell_type": "code",
   "execution_count": 4,
   "metadata": {
    "collapsed": false
   },
   "outputs": [
    {
     "data": {
      "text/plain": [
       "Unnamed: 0               int64\n",
       "Unnamed: 0.1             int64\n",
       "index                    int64\n",
       "Unnamed: 0.1             int64\n",
       "AIRLINE                 object\n",
       "N-NUMBER                object\n",
       "ORIGIN_AIRPORT          object\n",
       "ARRIVAL_DELAY          float64\n",
       "DAY_COUNT                int64\n",
       "SCHEDULED_DEPARTURE      int64\n",
       "YEAR MFR                object\n",
       "NO-SEATS               float64\n",
       "Delay_Group             object\n",
       "dtype: object"
      ]
     },
     "execution_count": 4,
     "metadata": {},
     "output_type": "execute_result"
    }
   ],
   "source": [
    "flights.dtypes"
   ]
  },
  {
   "cell_type": "code",
   "execution_count": 5,
   "metadata": {
    "collapsed": false
   },
   "outputs": [],
   "source": [
    "flights.reset_index(inplace=True)"
   ]
  },
  {
   "cell_type": "code",
   "execution_count": 6,
   "metadata": {
    "collapsed": false
   },
   "outputs": [],
   "source": [
    "Hour_dum = pd.get_dummies(flights['SCHEDULED_DEPARTURE'], prefix='HOUR')\n",
    "airline_dum = pd.get_dummies(flights['AIRLINE'], prefix='AIRLINE')\n",
    "airport_dum = pd.get_dummies(flights['ORIGIN_AIRPORT'], prefix='AIRPORT')\n",
    "#MFG_dum = pd.get_dummies(flight['YEAR MFR'], prefix='YearMFG')\n",
    "\n",
    "\n"
   ]
  },
  {
   "cell_type": "code",
   "execution_count": 7,
   "metadata": {
    "collapsed": false
   },
   "outputs": [
    {
     "data": {
      "text/html": [
       "<div>\n",
       "<table border=\"1\" class=\"dataframe\">\n",
       "  <thead>\n",
       "    <tr style=\"text-align: right;\">\n",
       "      <th></th>\n",
       "      <th>AIRPORT_ATL</th>\n",
       "      <th>AIRPORT_BOS</th>\n",
       "      <th>AIRPORT_BWI</th>\n",
       "      <th>AIRPORT_CLT</th>\n",
       "      <th>AIRPORT_DEN</th>\n",
       "      <th>AIRPORT_DFW</th>\n",
       "      <th>AIRPORT_DTW</th>\n",
       "      <th>AIRPORT_EWR</th>\n",
       "      <th>AIRPORT_IAH</th>\n",
       "      <th>AIRPORT_JFK</th>\n",
       "      <th>AIRPORT_LAS</th>\n",
       "      <th>AIRPORT_LAX</th>\n",
       "      <th>AIRPORT_LGA</th>\n",
       "      <th>AIRPORT_MCO</th>\n",
       "      <th>AIRPORT_MSP</th>\n",
       "      <th>AIRPORT_ORD</th>\n",
       "      <th>AIRPORT_PHX</th>\n",
       "      <th>AIRPORT_SEA</th>\n",
       "      <th>AIRPORT_SFO</th>\n",
       "      <th>AIRPORT_SLC</th>\n",
       "    </tr>\n",
       "  </thead>\n",
       "  <tbody>\n",
       "    <tr>\n",
       "      <th>0</th>\n",
       "      <td>1.0</td>\n",
       "      <td>0.0</td>\n",
       "      <td>0.0</td>\n",
       "      <td>0.0</td>\n",
       "      <td>0.0</td>\n",
       "      <td>0.0</td>\n",
       "      <td>0.0</td>\n",
       "      <td>0.0</td>\n",
       "      <td>0.0</td>\n",
       "      <td>0.0</td>\n",
       "      <td>0.0</td>\n",
       "      <td>0.0</td>\n",
       "      <td>0.0</td>\n",
       "      <td>0.0</td>\n",
       "      <td>0.0</td>\n",
       "      <td>0.0</td>\n",
       "      <td>0.0</td>\n",
       "      <td>0.0</td>\n",
       "      <td>0.0</td>\n",
       "      <td>0.0</td>\n",
       "    </tr>\n",
       "    <tr>\n",
       "      <th>1</th>\n",
       "      <td>1.0</td>\n",
       "      <td>0.0</td>\n",
       "      <td>0.0</td>\n",
       "      <td>0.0</td>\n",
       "      <td>0.0</td>\n",
       "      <td>0.0</td>\n",
       "      <td>0.0</td>\n",
       "      <td>0.0</td>\n",
       "      <td>0.0</td>\n",
       "      <td>0.0</td>\n",
       "      <td>0.0</td>\n",
       "      <td>0.0</td>\n",
       "      <td>0.0</td>\n",
       "      <td>0.0</td>\n",
       "      <td>0.0</td>\n",
       "      <td>0.0</td>\n",
       "      <td>0.0</td>\n",
       "      <td>0.0</td>\n",
       "      <td>0.0</td>\n",
       "      <td>0.0</td>\n",
       "    </tr>\n",
       "    <tr>\n",
       "      <th>2</th>\n",
       "      <td>1.0</td>\n",
       "      <td>0.0</td>\n",
       "      <td>0.0</td>\n",
       "      <td>0.0</td>\n",
       "      <td>0.0</td>\n",
       "      <td>0.0</td>\n",
       "      <td>0.0</td>\n",
       "      <td>0.0</td>\n",
       "      <td>0.0</td>\n",
       "      <td>0.0</td>\n",
       "      <td>0.0</td>\n",
       "      <td>0.0</td>\n",
       "      <td>0.0</td>\n",
       "      <td>0.0</td>\n",
       "      <td>0.0</td>\n",
       "      <td>0.0</td>\n",
       "      <td>0.0</td>\n",
       "      <td>0.0</td>\n",
       "      <td>0.0</td>\n",
       "      <td>0.0</td>\n",
       "    </tr>\n",
       "    <tr>\n",
       "      <th>3</th>\n",
       "      <td>1.0</td>\n",
       "      <td>0.0</td>\n",
       "      <td>0.0</td>\n",
       "      <td>0.0</td>\n",
       "      <td>0.0</td>\n",
       "      <td>0.0</td>\n",
       "      <td>0.0</td>\n",
       "      <td>0.0</td>\n",
       "      <td>0.0</td>\n",
       "      <td>0.0</td>\n",
       "      <td>0.0</td>\n",
       "      <td>0.0</td>\n",
       "      <td>0.0</td>\n",
       "      <td>0.0</td>\n",
       "      <td>0.0</td>\n",
       "      <td>0.0</td>\n",
       "      <td>0.0</td>\n",
       "      <td>0.0</td>\n",
       "      <td>0.0</td>\n",
       "      <td>0.0</td>\n",
       "    </tr>\n",
       "    <tr>\n",
       "      <th>4</th>\n",
       "      <td>1.0</td>\n",
       "      <td>0.0</td>\n",
       "      <td>0.0</td>\n",
       "      <td>0.0</td>\n",
       "      <td>0.0</td>\n",
       "      <td>0.0</td>\n",
       "      <td>0.0</td>\n",
       "      <td>0.0</td>\n",
       "      <td>0.0</td>\n",
       "      <td>0.0</td>\n",
       "      <td>0.0</td>\n",
       "      <td>0.0</td>\n",
       "      <td>0.0</td>\n",
       "      <td>0.0</td>\n",
       "      <td>0.0</td>\n",
       "      <td>0.0</td>\n",
       "      <td>0.0</td>\n",
       "      <td>0.0</td>\n",
       "      <td>0.0</td>\n",
       "      <td>0.0</td>\n",
       "    </tr>\n",
       "  </tbody>\n",
       "</table>\n",
       "</div>"
      ],
      "text/plain": [
       "   AIRPORT_ATL  AIRPORT_BOS  AIRPORT_BWI  AIRPORT_CLT  AIRPORT_DEN  \\\n",
       "0          1.0          0.0          0.0          0.0          0.0   \n",
       "1          1.0          0.0          0.0          0.0          0.0   \n",
       "2          1.0          0.0          0.0          0.0          0.0   \n",
       "3          1.0          0.0          0.0          0.0          0.0   \n",
       "4          1.0          0.0          0.0          0.0          0.0   \n",
       "\n",
       "   AIRPORT_DFW  AIRPORT_DTW  AIRPORT_EWR  AIRPORT_IAH  AIRPORT_JFK  \\\n",
       "0          0.0          0.0          0.0          0.0          0.0   \n",
       "1          0.0          0.0          0.0          0.0          0.0   \n",
       "2          0.0          0.0          0.0          0.0          0.0   \n",
       "3          0.0          0.0          0.0          0.0          0.0   \n",
       "4          0.0          0.0          0.0          0.0          0.0   \n",
       "\n",
       "   AIRPORT_LAS  AIRPORT_LAX  AIRPORT_LGA  AIRPORT_MCO  AIRPORT_MSP  \\\n",
       "0          0.0          0.0          0.0          0.0          0.0   \n",
       "1          0.0          0.0          0.0          0.0          0.0   \n",
       "2          0.0          0.0          0.0          0.0          0.0   \n",
       "3          0.0          0.0          0.0          0.0          0.0   \n",
       "4          0.0          0.0          0.0          0.0          0.0   \n",
       "\n",
       "   AIRPORT_ORD  AIRPORT_PHX  AIRPORT_SEA  AIRPORT_SFO  AIRPORT_SLC  \n",
       "0          0.0          0.0          0.0          0.0          0.0  \n",
       "1          0.0          0.0          0.0          0.0          0.0  \n",
       "2          0.0          0.0          0.0          0.0          0.0  \n",
       "3          0.0          0.0          0.0          0.0          0.0  \n",
       "4          0.0          0.0          0.0          0.0          0.0  "
      ]
     },
     "execution_count": 7,
     "metadata": {},
     "output_type": "execute_result"
    }
   ],
   "source": [
    "airport_dum.head()"
   ]
  },
  {
   "cell_type": "code",
   "execution_count": 8,
   "metadata": {
    "collapsed": false
   },
   "outputs": [],
   "source": [
    "flights2 = flights.copy()"
   ]
  },
  {
   "cell_type": "code",
   "execution_count": 9,
   "metadata": {
    "collapsed": false
   },
   "outputs": [],
   "source": [
    "flights3 = pd.concat([flights2,Hour_dum,airline_dum,airport_dum], axis=1)"
   ]
  },
  {
   "cell_type": "code",
   "execution_count": 10,
   "metadata": {
    "collapsed": false
   },
   "outputs": [
    {
     "data": {
      "text/html": [
       "<div>\n",
       "<table border=\"1\" class=\"dataframe\">\n",
       "  <thead>\n",
       "    <tr style=\"text-align: right;\">\n",
       "      <th></th>\n",
       "      <th>level_0</th>\n",
       "      <th>Unnamed: 0</th>\n",
       "      <th>Unnamed: 0.1</th>\n",
       "      <th>index</th>\n",
       "      <th>Unnamed: 0.1</th>\n",
       "      <th>AIRLINE</th>\n",
       "      <th>N-NUMBER</th>\n",
       "      <th>ORIGIN_AIRPORT</th>\n",
       "      <th>ARRIVAL_DELAY</th>\n",
       "      <th>DAY_COUNT</th>\n",
       "      <th>...</th>\n",
       "      <th>AIRPORT_LAS</th>\n",
       "      <th>AIRPORT_LAX</th>\n",
       "      <th>AIRPORT_LGA</th>\n",
       "      <th>AIRPORT_MCO</th>\n",
       "      <th>AIRPORT_MSP</th>\n",
       "      <th>AIRPORT_ORD</th>\n",
       "      <th>AIRPORT_PHX</th>\n",
       "      <th>AIRPORT_SEA</th>\n",
       "      <th>AIRPORT_SFO</th>\n",
       "      <th>AIRPORT_SLC</th>\n",
       "    </tr>\n",
       "  </thead>\n",
       "  <tbody>\n",
       "    <tr>\n",
       "      <th>2439991</th>\n",
       "      <td>2912794</td>\n",
       "      <td>2912794</td>\n",
       "      <td>5714627</td>\n",
       "      <td>5714627</td>\n",
       "      <td>5714627</td>\n",
       "      <td>WN</td>\n",
       "      <td>215WN</td>\n",
       "      <td>BWI</td>\n",
       "      <td>-12.0</td>\n",
       "      <td>365</td>\n",
       "      <td>...</td>\n",
       "      <td>0.0</td>\n",
       "      <td>0.0</td>\n",
       "      <td>0.0</td>\n",
       "      <td>0.0</td>\n",
       "      <td>0.0</td>\n",
       "      <td>0.0</td>\n",
       "      <td>0.0</td>\n",
       "      <td>0.0</td>\n",
       "      <td>0.0</td>\n",
       "      <td>0.0</td>\n",
       "    </tr>\n",
       "    <tr>\n",
       "      <th>2439992</th>\n",
       "      <td>2912795</td>\n",
       "      <td>2912795</td>\n",
       "      <td>5714655</td>\n",
       "      <td>5714655</td>\n",
       "      <td>5714655</td>\n",
       "      <td>WN</td>\n",
       "      <td>960WN</td>\n",
       "      <td>BWI</td>\n",
       "      <td>-1.0</td>\n",
       "      <td>365</td>\n",
       "      <td>...</td>\n",
       "      <td>0.0</td>\n",
       "      <td>0.0</td>\n",
       "      <td>0.0</td>\n",
       "      <td>0.0</td>\n",
       "      <td>0.0</td>\n",
       "      <td>0.0</td>\n",
       "      <td>0.0</td>\n",
       "      <td>0.0</td>\n",
       "      <td>0.0</td>\n",
       "      <td>0.0</td>\n",
       "    </tr>\n",
       "    <tr>\n",
       "      <th>2439993</th>\n",
       "      <td>2912796</td>\n",
       "      <td>2912796</td>\n",
       "      <td>5714656</td>\n",
       "      <td>5714656</td>\n",
       "      <td>5714656</td>\n",
       "      <td>WN</td>\n",
       "      <td>7732A</td>\n",
       "      <td>BWI</td>\n",
       "      <td>29.0</td>\n",
       "      <td>365</td>\n",
       "      <td>...</td>\n",
       "      <td>0.0</td>\n",
       "      <td>0.0</td>\n",
       "      <td>0.0</td>\n",
       "      <td>0.0</td>\n",
       "      <td>0.0</td>\n",
       "      <td>0.0</td>\n",
       "      <td>0.0</td>\n",
       "      <td>0.0</td>\n",
       "      <td>0.0</td>\n",
       "      <td>0.0</td>\n",
       "    </tr>\n",
       "    <tr>\n",
       "      <th>2439994</th>\n",
       "      <td>2912797</td>\n",
       "      <td>2912797</td>\n",
       "      <td>5714710</td>\n",
       "      <td>5714710</td>\n",
       "      <td>5714710</td>\n",
       "      <td>WN</td>\n",
       "      <td>774SW</td>\n",
       "      <td>BWI</td>\n",
       "      <td>2.0</td>\n",
       "      <td>365</td>\n",
       "      <td>...</td>\n",
       "      <td>0.0</td>\n",
       "      <td>0.0</td>\n",
       "      <td>0.0</td>\n",
       "      <td>0.0</td>\n",
       "      <td>0.0</td>\n",
       "      <td>0.0</td>\n",
       "      <td>0.0</td>\n",
       "      <td>0.0</td>\n",
       "      <td>0.0</td>\n",
       "      <td>0.0</td>\n",
       "    </tr>\n",
       "    <tr>\n",
       "      <th>2439995</th>\n",
       "      <td>2912798</td>\n",
       "      <td>2912798</td>\n",
       "      <td>5714902</td>\n",
       "      <td>5714902</td>\n",
       "      <td>5714902</td>\n",
       "      <td>WN</td>\n",
       "      <td>945WN</td>\n",
       "      <td>BWI</td>\n",
       "      <td>-13.0</td>\n",
       "      <td>365</td>\n",
       "      <td>...</td>\n",
       "      <td>0.0</td>\n",
       "      <td>0.0</td>\n",
       "      <td>0.0</td>\n",
       "      <td>0.0</td>\n",
       "      <td>0.0</td>\n",
       "      <td>0.0</td>\n",
       "      <td>0.0</td>\n",
       "      <td>0.0</td>\n",
       "      <td>0.0</td>\n",
       "      <td>0.0</td>\n",
       "    </tr>\n",
       "  </tbody>\n",
       "</table>\n",
       "<p>5 rows × 70 columns</p>\n",
       "</div>"
      ],
      "text/plain": [
       "         level_0  Unnamed: 0  Unnamed: 0.1    index  Unnamed: 0.1 AIRLINE  \\\n",
       "2439991  2912794     2912794       5714627  5714627       5714627      WN   \n",
       "2439992  2912795     2912795       5714655  5714655       5714655      WN   \n",
       "2439993  2912796     2912796       5714656  5714656       5714656      WN   \n",
       "2439994  2912797     2912797       5714710  5714710       5714710      WN   \n",
       "2439995  2912798     2912798       5714902  5714902       5714902      WN   \n",
       "\n",
       "        N-NUMBER ORIGIN_AIRPORT  ARRIVAL_DELAY  DAY_COUNT     ...       \\\n",
       "2439991    215WN            BWI          -12.0        365     ...        \n",
       "2439992    960WN            BWI           -1.0        365     ...        \n",
       "2439993    7732A            BWI           29.0        365     ...        \n",
       "2439994    774SW            BWI            2.0        365     ...        \n",
       "2439995    945WN            BWI          -13.0        365     ...        \n",
       "\n",
       "         AIRPORT_LAS AIRPORT_LAX  AIRPORT_LGA AIRPORT_MCO  AIRPORT_MSP  \\\n",
       "2439991          0.0         0.0          0.0         0.0          0.0   \n",
       "2439992          0.0         0.0          0.0         0.0          0.0   \n",
       "2439993          0.0         0.0          0.0         0.0          0.0   \n",
       "2439994          0.0         0.0          0.0         0.0          0.0   \n",
       "2439995          0.0         0.0          0.0         0.0          0.0   \n",
       "\n",
       "         AIRPORT_ORD  AIRPORT_PHX  AIRPORT_SEA  AIRPORT_SFO  AIRPORT_SLC  \n",
       "2439991          0.0          0.0          0.0          0.0          0.0  \n",
       "2439992          0.0          0.0          0.0          0.0          0.0  \n",
       "2439993          0.0          0.0          0.0          0.0          0.0  \n",
       "2439994          0.0          0.0          0.0          0.0          0.0  \n",
       "2439995          0.0          0.0          0.0          0.0          0.0  \n",
       "\n",
       "[5 rows x 70 columns]"
      ]
     },
     "execution_count": 10,
     "metadata": {},
     "output_type": "execute_result"
    }
   ],
   "source": [
    "flights3.tail()"
   ]
  },
  {
   "cell_type": "code",
   "execution_count": 11,
   "metadata": {
    "collapsed": false
   },
   "outputs": [
    {
     "data": {
      "text/plain": [
       "Index([u'level_0', u'Unnamed: 0', u'Unnamed: 0.1', u'index', u'Unnamed: 0.1',\n",
       "       u'AIRLINE', u'N-NUMBER', u'ORIGIN_AIRPORT', u'ARRIVAL_DELAY',\n",
       "       u'DAY_COUNT', u'SCHEDULED_DEPARTURE', u'YEAR MFR', u'NO-SEATS',\n",
       "       u'Delay_Group', u'HOUR_0', u'HOUR_1', u'HOUR_2', u'HOUR_5', u'HOUR_6',\n",
       "       u'HOUR_7', u'HOUR_8', u'HOUR_9', u'HOUR_10', u'HOUR_11', u'HOUR_12',\n",
       "       u'HOUR_13', u'HOUR_14', u'HOUR_15', u'HOUR_16', u'HOUR_17', u'HOUR_18',\n",
       "       u'HOUR_19', u'HOUR_20', u'HOUR_21', u'HOUR_22', u'HOUR_23',\n",
       "       u'AIRLINE_AA', u'AIRLINE_AS', u'AIRLINE_B6', u'AIRLINE_DL',\n",
       "       u'AIRLINE_EV', u'AIRLINE_F9', u'AIRLINE_HA', u'AIRLINE_MQ',\n",
       "       u'AIRLINE_NK', u'AIRLINE_OO', u'AIRLINE_UA', u'AIRLINE_US',\n",
       "       u'AIRLINE_VX', u'AIRLINE_WN', u'AIRPORT_ATL', u'AIRPORT_BOS',\n",
       "       u'AIRPORT_BWI', u'AIRPORT_CLT', u'AIRPORT_DEN', u'AIRPORT_DFW',\n",
       "       u'AIRPORT_DTW', u'AIRPORT_EWR', u'AIRPORT_IAH', u'AIRPORT_JFK',\n",
       "       u'AIRPORT_LAS', u'AIRPORT_LAX', u'AIRPORT_LGA', u'AIRPORT_MCO',\n",
       "       u'AIRPORT_MSP', u'AIRPORT_ORD', u'AIRPORT_PHX', u'AIRPORT_SEA',\n",
       "       u'AIRPORT_SFO', u'AIRPORT_SLC'],\n",
       "      dtype='object')"
      ]
     },
     "execution_count": 11,
     "metadata": {},
     "output_type": "execute_result"
    }
   ],
   "source": [
    "flights3.columns"
   ]
  },
  {
   "cell_type": "code",
   "execution_count": 21,
   "metadata": {
    "collapsed": false
   },
   "outputs": [],
   "source": [
    "from sklearn.ensemble import RandomForestClassifier\n",
    "\n",
    "model = RandomForestClassifier(n_estimators = 6)\n",
    "X = flights3[['HOUR_5', 'HOUR_6','HOUR_7','HOUR_8','HOUR_17','HOUR_18','HOUR_19','AIRLINE_AA','AIRLINE_UA','AIRLINE_DL','AIRLINE_WN','AIRLINE_AS','AIRPORT_ATL','AIRPORT_ORD','AIRPORT_SEA','AIRPORT_DEN','AIRPORT_IAH','AIRPORT_EWR','AIRPORT_LAX','AIRPORT_SFO','DAY_COUNT','NO-SEATS']]\n",
    "y = flights3['Delay_Group']\n"
   ]
  },
  {
   "cell_type": "code",
   "execution_count": 22,
   "metadata": {
    "collapsed": false
   },
   "outputs": [
    {
     "data": {
      "text/plain": [
       "RandomForestClassifier(bootstrap=True, class_weight=None, criterion='gini',\n",
       "            max_depth=None, max_features='auto', max_leaf_nodes=None,\n",
       "            min_impurity_split=1e-07, min_samples_leaf=1,\n",
       "            min_samples_split=2, min_weight_fraction_leaf=0.0,\n",
       "            n_estimators=6, n_jobs=1, oob_score=False, random_state=None,\n",
       "            verbose=0, warm_start=False)"
      ]
     },
     "execution_count": 22,
     "metadata": {},
     "output_type": "execute_result"
    }
   ],
   "source": [
    "model.fit(X,y)"
   ]
  },
  {
   "cell_type": "code",
   "execution_count": 23,
   "metadata": {
    "collapsed": false
   },
   "outputs": [
    {
     "data": {
      "text/plain": [
       "0.6541748429095785"
      ]
     },
     "execution_count": 23,
     "metadata": {},
     "output_type": "execute_result"
    }
   ],
   "source": [
    "model.score(X,y)"
   ]
  },
  {
   "cell_type": "markdown",
   "metadata": {},
   "source": [
    "0.65172"
   ]
  },
  {
   "cell_type": "code",
   "execution_count": 2,
   "metadata": {
    "collapsed": false
   },
   "outputs": [],
   "source": [
    "import pandas as pd\n",
    "import numpy as np\n",
    "A = {'player' : ['Rob', 'Rib', 'Rob', 'Rob', 'Ala', 'Lew'], 'Rating' : [7,8,8,6,7,8], 'Shot?' : ['yes', 'yes', 'no', 'no', 'yes', 'yes']}\n",
    "A = pd.DataFrame(A)"
   ]
  },
  {
   "cell_type": "code",
   "execution_count": 3,
   "metadata": {
    "collapsed": false
   },
   "outputs": [
    {
     "data": {
      "text/html": [
       "<div>\n",
       "<table border=\"1\" class=\"dataframe\">\n",
       "  <thead>\n",
       "    <tr style=\"text-align: right;\">\n",
       "      <th></th>\n",
       "      <th>Rating</th>\n",
       "      <th>Shot?</th>\n",
       "      <th>player</th>\n",
       "    </tr>\n",
       "  </thead>\n",
       "  <tbody>\n",
       "    <tr>\n",
       "      <th>0</th>\n",
       "      <td>7</td>\n",
       "      <td>yes</td>\n",
       "      <td>Rob</td>\n",
       "    </tr>\n",
       "    <tr>\n",
       "      <th>1</th>\n",
       "      <td>8</td>\n",
       "      <td>yes</td>\n",
       "      <td>Rib</td>\n",
       "    </tr>\n",
       "    <tr>\n",
       "      <th>2</th>\n",
       "      <td>8</td>\n",
       "      <td>no</td>\n",
       "      <td>Rob</td>\n",
       "    </tr>\n",
       "    <tr>\n",
       "      <th>3</th>\n",
       "      <td>6</td>\n",
       "      <td>no</td>\n",
       "      <td>Rob</td>\n",
       "    </tr>\n",
       "    <tr>\n",
       "      <th>4</th>\n",
       "      <td>7</td>\n",
       "      <td>yes</td>\n",
       "      <td>Ala</td>\n",
       "    </tr>\n",
       "  </tbody>\n",
       "</table>\n",
       "</div>"
      ],
      "text/plain": [
       "   Rating Shot? player\n",
       "0       7   yes    Rob\n",
       "1       8   yes    Rib\n",
       "2       8    no    Rob\n",
       "3       6    no    Rob\n",
       "4       7   yes    Ala"
      ]
     },
     "execution_count": 3,
     "metadata": {},
     "output_type": "execute_result"
    }
   ],
   "source": [
    "A.head()"
   ]
  },
  {
   "cell_type": "code",
   "execution_count": 11,
   "metadata": {
    "collapsed": true
   },
   "outputs": [],
   "source": [
    "dum = pd.get_dummies(A['Rating'], prefix='Rating')"
   ]
  },
  {
   "cell_type": "code",
   "execution_count": 12,
   "metadata": {
    "collapsed": false
   },
   "outputs": [
    {
     "data": {
      "text/html": [
       "<div>\n",
       "<table border=\"1\" class=\"dataframe\">\n",
       "  <thead>\n",
       "    <tr style=\"text-align: right;\">\n",
       "      <th></th>\n",
       "      <th>Rating</th>\n",
       "      <th>Shot?</th>\n",
       "      <th>player</th>\n",
       "      <th>Rating_6</th>\n",
       "      <th>Rating_7</th>\n",
       "      <th>Rating_8</th>\n",
       "    </tr>\n",
       "  </thead>\n",
       "  <tbody>\n",
       "    <tr>\n",
       "      <th>0</th>\n",
       "      <td>7</td>\n",
       "      <td>yes</td>\n",
       "      <td>Rob</td>\n",
       "      <td>0.0</td>\n",
       "      <td>1.0</td>\n",
       "      <td>0.0</td>\n",
       "    </tr>\n",
       "    <tr>\n",
       "      <th>1</th>\n",
       "      <td>8</td>\n",
       "      <td>yes</td>\n",
       "      <td>Rib</td>\n",
       "      <td>0.0</td>\n",
       "      <td>0.0</td>\n",
       "      <td>1.0</td>\n",
       "    </tr>\n",
       "    <tr>\n",
       "      <th>2</th>\n",
       "      <td>8</td>\n",
       "      <td>no</td>\n",
       "      <td>Rob</td>\n",
       "      <td>0.0</td>\n",
       "      <td>0.0</td>\n",
       "      <td>1.0</td>\n",
       "    </tr>\n",
       "    <tr>\n",
       "      <th>3</th>\n",
       "      <td>6</td>\n",
       "      <td>no</td>\n",
       "      <td>Rob</td>\n",
       "      <td>1.0</td>\n",
       "      <td>0.0</td>\n",
       "      <td>0.0</td>\n",
       "    </tr>\n",
       "    <tr>\n",
       "      <th>4</th>\n",
       "      <td>7</td>\n",
       "      <td>yes</td>\n",
       "      <td>Ala</td>\n",
       "      <td>0.0</td>\n",
       "      <td>1.0</td>\n",
       "      <td>0.0</td>\n",
       "    </tr>\n",
       "    <tr>\n",
       "      <th>5</th>\n",
       "      <td>8</td>\n",
       "      <td>yes</td>\n",
       "      <td>Lew</td>\n",
       "      <td>0.0</td>\n",
       "      <td>0.0</td>\n",
       "      <td>1.0</td>\n",
       "    </tr>\n",
       "  </tbody>\n",
       "</table>\n",
       "</div>"
      ],
      "text/plain": [
       "   Rating Shot? player  Rating_6  Rating_7  Rating_8\n",
       "0       7   yes    Rob       0.0       1.0       0.0\n",
       "1       8   yes    Rib       0.0       0.0       1.0\n",
       "2       8    no    Rob       0.0       0.0       1.0\n",
       "3       6    no    Rob       1.0       0.0       0.0\n",
       "4       7   yes    Ala       0.0       1.0       0.0\n",
       "5       8   yes    Lew       0.0       0.0       1.0"
      ]
     },
     "execution_count": 12,
     "metadata": {},
     "output_type": "execute_result"
    }
   ],
   "source": [
    "pd.concat([A,dum], axis=1)"
   ]
  },
  {
   "cell_type": "code",
   "execution_count": null,
   "metadata": {
    "collapsed": true
   },
   "outputs": [],
   "source": []
  }
 ],
 "metadata": {
  "kernelspec": {
   "display_name": "Python [Root]",
   "language": "python",
   "name": "Python [Root]"
  },
  "language_info": {
   "codemirror_mode": {
    "name": "ipython",
    "version": 2
   },
   "file_extension": ".py",
   "mimetype": "text/x-python",
   "name": "python",
   "nbconvert_exporter": "python",
   "pygments_lexer": "ipython2",
   "version": "2.7.12"
  }
 },
 "nbformat": 4,
 "nbformat_minor": 0
}
