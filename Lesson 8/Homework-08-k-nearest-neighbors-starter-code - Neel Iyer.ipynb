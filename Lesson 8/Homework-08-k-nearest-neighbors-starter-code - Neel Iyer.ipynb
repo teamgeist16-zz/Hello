{
 "cells": [
  {
   "cell_type": "markdown",
   "metadata": {},
   "source": [
    "# HOMEWORK: k-Nearest Neighbors"
   ]
  },
  {
   "cell_type": "code",
   "execution_count": 1,
   "metadata": {
    "collapsed": false
   },
   "outputs": [
    {
     "name": "stdout",
     "output_type": "stream",
     "text": [
      "Collecting scikit-learn\n",
      "  Using cached scikit_learn-0.18.1-cp27-cp27m-win_amd64.whl\n",
      "Installing collected packages: scikit-learn\n",
      "  Found existing installation: scikit-learn 0.17.1\n",
      "    Uninstalling scikit-learn-0.17.1:\n",
      "      Successfully uninstalled scikit-learn-0.17.1\n",
      "Successfully installed scikit-learn-0.18.1\n"
     ]
    },
    {
     "name": "stderr",
     "output_type": "stream",
     "text": [
      "    DEPRECATION: Uninstalling a distutils installed project (scikit-learn) has been deprecated and will be removed in a future version. This is due to the fact that uninstalling a distutils project will only partially uninstall the project.\n",
      "You are using pip version 8.1.2, however version 9.0.1 is available.\n",
      "You should consider upgrading via the 'python -m pip install --upgrade pip' command.\n"
     ]
    }
   ],
   "source": [
    "!pip install -U scikit-learn\n"
   ]
  },
  {
   "cell_type": "code",
   "execution_count": 2,
   "metadata": {
    "collapsed": false
   },
   "outputs": [
    {
     "name": "stderr",
     "output_type": "stream",
     "text": [
      "C:\\Users\\niyer\\AppData\\Local\\Continuum\\Anaconda2\\lib\\site-packages\\sklearn\\cross_validation.py:44: DeprecationWarning: This module was deprecated in version 0.18 in favor of the model_selection module into which all the refactored classes and functions are moved. Also note that the interface of the new CV iterators are different from that of this module. This module will be removed in 0.20.\n",
      "  \"This module will be removed in 0.20.\", DeprecationWarning)\n",
      "C:\\Users\\niyer\\AppData\\Local\\Continuum\\Anaconda2\\lib\\site-packages\\sklearn\\grid_search.py:43: DeprecationWarning: This module was deprecated in version 0.18 in favor of the model_selection module into which all the refactored classes and functions are moved. This module will be removed in 0.20.\n",
      "  DeprecationWarning)\n"
     ]
    }
   ],
   "source": [
    "import os\n",
    "import scipy\n",
    "import numpy\n",
    "import pandas as pd\n",
    "\n",
    "pd.set_option('display.max_rows', 100)\n",
    "pd.set_option('display.notebook_repr_html', True)\n",
    "pd.set_option('display.max_columns', 100)\n",
    "\n",
    "from sklearn import preprocessing, neighbors, grid_search\n",
    "from sklearn import cross_validation\n",
    "\n",
    "import matplotlib.pyplot as plt\n",
    "%matplotlib inline\n",
    "plt.style.use('ggplot')"
   ]
  },
  {
   "cell_type": "code",
   "execution_count": 3,
   "metadata": {
    "collapsed": false
   },
   "outputs": [],
   "source": [
    "df = pd.read_csv('dataset-boston.csv')"
   ]
  },
  {
   "cell_type": "code",
   "execution_count": 4,
   "metadata": {
    "collapsed": false
   },
   "outputs": [
    {
     "data": {
      "text/html": [
       "<div>\n",
       "<table border=\"1\" class=\"dataframe\">\n",
       "  <thead>\n",
       "    <tr style=\"text-align: right;\">\n",
       "      <th></th>\n",
       "      <th>CRIM</th>\n",
       "      <th>ZN</th>\n",
       "      <th>INDUS</th>\n",
       "      <th>CHAS</th>\n",
       "      <th>NOX</th>\n",
       "      <th>RM</th>\n",
       "      <th>AGE</th>\n",
       "      <th>DIS</th>\n",
       "      <th>RAD</th>\n",
       "      <th>TAX</th>\n",
       "      <th>PTRATIO</th>\n",
       "      <th>BLACK</th>\n",
       "      <th>LSTAT</th>\n",
       "      <th>MEDV</th>\n",
       "    </tr>\n",
       "  </thead>\n",
       "  <tbody>\n",
       "    <tr>\n",
       "      <th>0</th>\n",
       "      <td>0.00632</td>\n",
       "      <td>18.0</td>\n",
       "      <td>2.31</td>\n",
       "      <td>0</td>\n",
       "      <td>0.538</td>\n",
       "      <td>6.575</td>\n",
       "      <td>65.2</td>\n",
       "      <td>4.0900</td>\n",
       "      <td>1</td>\n",
       "      <td>296</td>\n",
       "      <td>15.3</td>\n",
       "      <td>396.90</td>\n",
       "      <td>4.98</td>\n",
       "      <td>24.0</td>\n",
       "    </tr>\n",
       "    <tr>\n",
       "      <th>1</th>\n",
       "      <td>0.02731</td>\n",
       "      <td>0.0</td>\n",
       "      <td>7.07</td>\n",
       "      <td>0</td>\n",
       "      <td>0.469</td>\n",
       "      <td>6.421</td>\n",
       "      <td>78.9</td>\n",
       "      <td>4.9671</td>\n",
       "      <td>2</td>\n",
       "      <td>242</td>\n",
       "      <td>17.8</td>\n",
       "      <td>396.90</td>\n",
       "      <td>9.14</td>\n",
       "      <td>21.6</td>\n",
       "    </tr>\n",
       "    <tr>\n",
       "      <th>2</th>\n",
       "      <td>0.02729</td>\n",
       "      <td>0.0</td>\n",
       "      <td>7.07</td>\n",
       "      <td>0</td>\n",
       "      <td>0.469</td>\n",
       "      <td>7.185</td>\n",
       "      <td>61.1</td>\n",
       "      <td>4.9671</td>\n",
       "      <td>2</td>\n",
       "      <td>242</td>\n",
       "      <td>17.8</td>\n",
       "      <td>392.83</td>\n",
       "      <td>4.03</td>\n",
       "      <td>34.7</td>\n",
       "    </tr>\n",
       "    <tr>\n",
       "      <th>3</th>\n",
       "      <td>0.03237</td>\n",
       "      <td>0.0</td>\n",
       "      <td>2.18</td>\n",
       "      <td>0</td>\n",
       "      <td>0.458</td>\n",
       "      <td>6.998</td>\n",
       "      <td>45.8</td>\n",
       "      <td>6.0622</td>\n",
       "      <td>3</td>\n",
       "      <td>222</td>\n",
       "      <td>18.7</td>\n",
       "      <td>394.63</td>\n",
       "      <td>2.94</td>\n",
       "      <td>33.4</td>\n",
       "    </tr>\n",
       "    <tr>\n",
       "      <th>4</th>\n",
       "      <td>0.06905</td>\n",
       "      <td>0.0</td>\n",
       "      <td>2.18</td>\n",
       "      <td>0</td>\n",
       "      <td>0.458</td>\n",
       "      <td>7.147</td>\n",
       "      <td>54.2</td>\n",
       "      <td>6.0622</td>\n",
       "      <td>3</td>\n",
       "      <td>222</td>\n",
       "      <td>18.7</td>\n",
       "      <td>396.90</td>\n",
       "      <td>5.33</td>\n",
       "      <td>36.2</td>\n",
       "    </tr>\n",
       "  </tbody>\n",
       "</table>\n",
       "</div>"
      ],
      "text/plain": [
       "      CRIM    ZN  INDUS  CHAS    NOX     RM   AGE     DIS  RAD  TAX  PTRATIO  \\\n",
       "0  0.00632  18.0   2.31     0  0.538  6.575  65.2  4.0900    1  296     15.3   \n",
       "1  0.02731   0.0   7.07     0  0.469  6.421  78.9  4.9671    2  242     17.8   \n",
       "2  0.02729   0.0   7.07     0  0.469  7.185  61.1  4.9671    2  242     17.8   \n",
       "3  0.03237   0.0   2.18     0  0.458  6.998  45.8  6.0622    3  222     18.7   \n",
       "4  0.06905   0.0   2.18     0  0.458  7.147  54.2  6.0622    3  222     18.7   \n",
       "\n",
       "    BLACK  LSTAT  MEDV  \n",
       "0  396.90   4.98  24.0  \n",
       "1  396.90   9.14  21.6  \n",
       "2  392.83   4.03  34.7  \n",
       "3  394.63   2.94  33.4  \n",
       "4  396.90   5.33  36.2  "
      ]
     },
     "execution_count": 4,
     "metadata": {},
     "output_type": "execute_result"
    }
   ],
   "source": [
    "df.head()"
   ]
  },
  {
   "cell_type": "markdown",
   "metadata": {},
   "source": [
    "The Boston dataset concerns itself with housing values in suburbs of Boston.  A description of the dataset is as follows:\n",
    "\n",
    "- CRIM: per capita crime rate by town\n",
    "- ZN: proportion of residential land zoned for lots over 25,000 sqft\n",
    "- INDUS: proportion of non-retail business acres per town\n",
    "- CHAS: Charles River binary/dummy variable (= 1 if tract bounds river; 0 otherwise)\n",
    "- NOX: nitric oxides concentration (parts per 10 million)\n",
    "- RM: average number of rooms per dwelling\n",
    "- AGE: proportion of owner-occupied units built prior to 1940\n",
    "- DIS: weighted distances to five Boston employment centers\n",
    "- RAD: index of accessibility to radial highways\n",
    "- TAX: full-value property-tax rate (per ten thousands of dollars)\n",
    "- PTRATIO: pupil-teacher ratio by town\n",
    "- B: 1000(Bk - 0.63)^2 where Bk is the proportion of blacks by town\n",
    "- LSTAT: % lower status of the population\n",
    "- MEDV: Median value of owner-occupied homes (in thousands of dollars)"
   ]
  },
  {
   "cell_type": "markdown",
   "metadata": {},
   "source": [
    "## Question 1.  \n",
    "+ Let's first categorize `MEDV` to 4 groups: Bottom 20% as Level 1, next 30% as Level 2, next 30% categorized as Level 3, and the top 20% as Level 4.  \n",
    "+ Please create a new variable `MEDV_Category` that stores the level number\n",
    "+ Remember the quantile function\n",
    "+ Remember how to segment your pandas data frame"
   ]
  },
  {
   "cell_type": "code",
   "execution_count": 5,
   "metadata": {
    "collapsed": false
   },
   "outputs": [
    {
     "data": {
      "text/html": [
       "<div>\n",
       "<table border=\"1\" class=\"dataframe\">\n",
       "  <thead>\n",
       "    <tr style=\"text-align: right;\">\n",
       "      <th></th>\n",
       "      <th>CRIM</th>\n",
       "      <th>ZN</th>\n",
       "      <th>INDUS</th>\n",
       "      <th>CHAS</th>\n",
       "      <th>NOX</th>\n",
       "      <th>RM</th>\n",
       "      <th>AGE</th>\n",
       "      <th>DIS</th>\n",
       "      <th>RAD</th>\n",
       "      <th>TAX</th>\n",
       "      <th>PTRATIO</th>\n",
       "      <th>BLACK</th>\n",
       "      <th>LSTAT</th>\n",
       "      <th>MEDV</th>\n",
       "      <th>MEDV_Category</th>\n",
       "    </tr>\n",
       "  </thead>\n",
       "  <tbody>\n",
       "    <tr>\n",
       "      <th>0</th>\n",
       "      <td>0.00632</td>\n",
       "      <td>18.0</td>\n",
       "      <td>2.31</td>\n",
       "      <td>0</td>\n",
       "      <td>0.538</td>\n",
       "      <td>6.575</td>\n",
       "      <td>65.2</td>\n",
       "      <td>4.0900</td>\n",
       "      <td>1</td>\n",
       "      <td>296</td>\n",
       "      <td>15.3</td>\n",
       "      <td>396.90</td>\n",
       "      <td>4.98</td>\n",
       "      <td>24.0</td>\n",
       "      <td>Level 3</td>\n",
       "    </tr>\n",
       "    <tr>\n",
       "      <th>1</th>\n",
       "      <td>0.02731</td>\n",
       "      <td>0.0</td>\n",
       "      <td>7.07</td>\n",
       "      <td>0</td>\n",
       "      <td>0.469</td>\n",
       "      <td>6.421</td>\n",
       "      <td>78.9</td>\n",
       "      <td>4.9671</td>\n",
       "      <td>2</td>\n",
       "      <td>242</td>\n",
       "      <td>17.8</td>\n",
       "      <td>396.90</td>\n",
       "      <td>9.14</td>\n",
       "      <td>21.6</td>\n",
       "      <td>Level 3</td>\n",
       "    </tr>\n",
       "    <tr>\n",
       "      <th>2</th>\n",
       "      <td>0.02729</td>\n",
       "      <td>0.0</td>\n",
       "      <td>7.07</td>\n",
       "      <td>0</td>\n",
       "      <td>0.469</td>\n",
       "      <td>7.185</td>\n",
       "      <td>61.1</td>\n",
       "      <td>4.9671</td>\n",
       "      <td>2</td>\n",
       "      <td>242</td>\n",
       "      <td>17.8</td>\n",
       "      <td>392.83</td>\n",
       "      <td>4.03</td>\n",
       "      <td>34.7</td>\n",
       "      <td>Level 4</td>\n",
       "    </tr>\n",
       "    <tr>\n",
       "      <th>3</th>\n",
       "      <td>0.03237</td>\n",
       "      <td>0.0</td>\n",
       "      <td>2.18</td>\n",
       "      <td>0</td>\n",
       "      <td>0.458</td>\n",
       "      <td>6.998</td>\n",
       "      <td>45.8</td>\n",
       "      <td>6.0622</td>\n",
       "      <td>3</td>\n",
       "      <td>222</td>\n",
       "      <td>18.7</td>\n",
       "      <td>394.63</td>\n",
       "      <td>2.94</td>\n",
       "      <td>33.4</td>\n",
       "      <td>Level 4</td>\n",
       "    </tr>\n",
       "    <tr>\n",
       "      <th>4</th>\n",
       "      <td>0.06905</td>\n",
       "      <td>0.0</td>\n",
       "      <td>2.18</td>\n",
       "      <td>0</td>\n",
       "      <td>0.458</td>\n",
       "      <td>7.147</td>\n",
       "      <td>54.2</td>\n",
       "      <td>6.0622</td>\n",
       "      <td>3</td>\n",
       "      <td>222</td>\n",
       "      <td>18.7</td>\n",
       "      <td>396.90</td>\n",
       "      <td>5.33</td>\n",
       "      <td>36.2</td>\n",
       "      <td>Level 4</td>\n",
       "    </tr>\n",
       "  </tbody>\n",
       "</table>\n",
       "</div>"
      ],
      "text/plain": [
       "      CRIM    ZN  INDUS  CHAS    NOX     RM   AGE     DIS  RAD  TAX  PTRATIO  \\\n",
       "0  0.00632  18.0   2.31     0  0.538  6.575  65.2  4.0900    1  296     15.3   \n",
       "1  0.02731   0.0   7.07     0  0.469  6.421  78.9  4.9671    2  242     17.8   \n",
       "2  0.02729   0.0   7.07     0  0.469  7.185  61.1  4.9671    2  242     17.8   \n",
       "3  0.03237   0.0   2.18     0  0.458  6.998  45.8  6.0622    3  222     18.7   \n",
       "4  0.06905   0.0   2.18     0  0.458  7.147  54.2  6.0622    3  222     18.7   \n",
       "\n",
       "    BLACK  LSTAT  MEDV MEDV_Category  \n",
       "0  396.90   4.98  24.0       Level 3  \n",
       "1  396.90   9.14  21.6       Level 3  \n",
       "2  392.83   4.03  34.7       Level 4  \n",
       "3  394.63   2.94  33.4       Level 4  \n",
       "4  396.90   5.33  36.2       Level 4  "
      ]
     },
     "execution_count": 5,
     "metadata": {},
     "output_type": "execute_result"
    }
   ],
   "source": [
    "df['MEDV_Category'] = \"\"\n",
    "val = \"\"\n",
    "q20 = df['MEDV'].quantile(q=0.20)\n",
    "q50 = df['MEDV'].quantile(q=0.50)\n",
    "q80 = df['MEDV'].quantile(q=0.80)\n",
    "for i,row in df.iterrows():\n",
    "    if row['MEDV'] < q20:\n",
    "        val = \"Level 1\"\n",
    "        df.set_value(i,'MEDV_Category',val)\n",
    "    if row['MEDV'] < q50 and row['MEDV'] >= q20:\n",
    "        val = \"Level 2\"\n",
    "        df.set_value(i,'MEDV_Category',val)\n",
    "    if row['MEDV'] < q80 and row['MEDV'] >= q50:\n",
    "        val = \"Level 3\"\n",
    "        df.set_value(i,'MEDV_Category',val)\n",
    "    if row['MEDV'] > q80:\n",
    "        val = \"Level 4\"\n",
    "        df.set_value(i,'MEDV_Category',val)\n",
    "    else: continue\n",
    "df.head()"
   ]
  },
  {
   "cell_type": "markdown",
   "metadata": {},
   "source": [
    "### Our goal is to predict `MEDV_Category` based on `RM`, `PTRATIO`, and `LSTAT`"
   ]
  },
  {
   "cell_type": "markdown",
   "metadata": {},
   "source": [
    "## Question 2.  \n",
    "\n",
    "+ First normalize `RM`, `PTRATIO`, and `LSTAT`.  \n",
    "+ By normalizing, we mean to scale each variable between 0 and 1 with the lowest value as 0 and the highest value as 1\n",
    "\n",
    "+ Check out the documentation for MinMaxScaler()"
   ]
  },
  {
   "cell_type": "code",
   "execution_count": 6,
   "metadata": {
    "collapsed": false
   },
   "outputs": [
    {
     "name": "stderr",
     "output_type": "stream",
     "text": [
      "C:\\Users\\niyer\\AppData\\Local\\Continuum\\Anaconda2\\lib\\site-packages\\sklearn\\preprocessing\\data.py:321: DeprecationWarning: Passing 1d arrays as data is deprecated in 0.17 and will raise ValueError in 0.19. Reshape your data either using X.reshape(-1, 1) if your data has a single feature or X.reshape(1, -1) if it contains a single sample.\n",
      "  warnings.warn(DEPRECATION_MSG_1D, DeprecationWarning)\n",
      "C:\\Users\\niyer\\AppData\\Local\\Continuum\\Anaconda2\\lib\\site-packages\\sklearn\\preprocessing\\data.py:356: DeprecationWarning: Passing 1d arrays as data is deprecated in 0.17 and will raise ValueError in 0.19. Reshape your data either using X.reshape(-1, 1) if your data has a single feature or X.reshape(1, -1) if it contains a single sample.\n",
      "  warnings.warn(DEPRECATION_MSG_1D, DeprecationWarning)\n",
      "C:\\Users\\niyer\\AppData\\Local\\Continuum\\Anaconda2\\lib\\site-packages\\sklearn\\preprocessing\\data.py:321: DeprecationWarning: Passing 1d arrays as data is deprecated in 0.17 and will raise ValueError in 0.19. Reshape your data either using X.reshape(-1, 1) if your data has a single feature or X.reshape(1, -1) if it contains a single sample.\n",
      "  warnings.warn(DEPRECATION_MSG_1D, DeprecationWarning)\n",
      "C:\\Users\\niyer\\AppData\\Local\\Continuum\\Anaconda2\\lib\\site-packages\\sklearn\\preprocessing\\data.py:356: DeprecationWarning: Passing 1d arrays as data is deprecated in 0.17 and will raise ValueError in 0.19. Reshape your data either using X.reshape(-1, 1) if your data has a single feature or X.reshape(1, -1) if it contains a single sample.\n",
      "  warnings.warn(DEPRECATION_MSG_1D, DeprecationWarning)\n",
      "C:\\Users\\niyer\\AppData\\Local\\Continuum\\Anaconda2\\lib\\site-packages\\sklearn\\preprocessing\\data.py:321: DeprecationWarning: Passing 1d arrays as data is deprecated in 0.17 and will raise ValueError in 0.19. Reshape your data either using X.reshape(-1, 1) if your data has a single feature or X.reshape(1, -1) if it contains a single sample.\n",
      "  warnings.warn(DEPRECATION_MSG_1D, DeprecationWarning)\n",
      "C:\\Users\\niyer\\AppData\\Local\\Continuum\\Anaconda2\\lib\\site-packages\\sklearn\\preprocessing\\data.py:356: DeprecationWarning: Passing 1d arrays as data is deprecated in 0.17 and will raise ValueError in 0.19. Reshape your data either using X.reshape(-1, 1) if your data has a single feature or X.reshape(1, -1) if it contains a single sample.\n",
      "  warnings.warn(DEPRECATION_MSG_1D, DeprecationWarning)\n"
     ]
    },
    {
     "data": {
      "text/html": [
       "<div>\n",
       "<table border=\"1\" class=\"dataframe\">\n",
       "  <thead>\n",
       "    <tr style=\"text-align: right;\">\n",
       "      <th></th>\n",
       "      <th>CRIM</th>\n",
       "      <th>ZN</th>\n",
       "      <th>INDUS</th>\n",
       "      <th>CHAS</th>\n",
       "      <th>NOX</th>\n",
       "      <th>RM</th>\n",
       "      <th>AGE</th>\n",
       "      <th>DIS</th>\n",
       "      <th>RAD</th>\n",
       "      <th>TAX</th>\n",
       "      <th>PTRATIO</th>\n",
       "      <th>BLACK</th>\n",
       "      <th>LSTAT</th>\n",
       "      <th>MEDV</th>\n",
       "      <th>MEDV_Category</th>\n",
       "      <th>RM_N</th>\n",
       "      <th>PTRATIO_N</th>\n",
       "      <th>LSTAT_N</th>\n",
       "    </tr>\n",
       "  </thead>\n",
       "  <tbody>\n",
       "    <tr>\n",
       "      <th>0</th>\n",
       "      <td>0.00632</td>\n",
       "      <td>18.0</td>\n",
       "      <td>2.31</td>\n",
       "      <td>0</td>\n",
       "      <td>0.538</td>\n",
       "      <td>6.575</td>\n",
       "      <td>65.2</td>\n",
       "      <td>4.0900</td>\n",
       "      <td>1</td>\n",
       "      <td>296</td>\n",
       "      <td>15.3</td>\n",
       "      <td>396.90</td>\n",
       "      <td>4.98</td>\n",
       "      <td>24.0</td>\n",
       "      <td>Level 3</td>\n",
       "      <td>0.577505</td>\n",
       "      <td>0.287234</td>\n",
       "      <td>0.089680</td>\n",
       "    </tr>\n",
       "    <tr>\n",
       "      <th>1</th>\n",
       "      <td>0.02731</td>\n",
       "      <td>0.0</td>\n",
       "      <td>7.07</td>\n",
       "      <td>0</td>\n",
       "      <td>0.469</td>\n",
       "      <td>6.421</td>\n",
       "      <td>78.9</td>\n",
       "      <td>4.9671</td>\n",
       "      <td>2</td>\n",
       "      <td>242</td>\n",
       "      <td>17.8</td>\n",
       "      <td>396.90</td>\n",
       "      <td>9.14</td>\n",
       "      <td>21.6</td>\n",
       "      <td>Level 3</td>\n",
       "      <td>0.547998</td>\n",
       "      <td>0.553191</td>\n",
       "      <td>0.204470</td>\n",
       "    </tr>\n",
       "    <tr>\n",
       "      <th>2</th>\n",
       "      <td>0.02729</td>\n",
       "      <td>0.0</td>\n",
       "      <td>7.07</td>\n",
       "      <td>0</td>\n",
       "      <td>0.469</td>\n",
       "      <td>7.185</td>\n",
       "      <td>61.1</td>\n",
       "      <td>4.9671</td>\n",
       "      <td>2</td>\n",
       "      <td>242</td>\n",
       "      <td>17.8</td>\n",
       "      <td>392.83</td>\n",
       "      <td>4.03</td>\n",
       "      <td>34.7</td>\n",
       "      <td>Level 4</td>\n",
       "      <td>0.694386</td>\n",
       "      <td>0.553191</td>\n",
       "      <td>0.063466</td>\n",
       "    </tr>\n",
       "    <tr>\n",
       "      <th>3</th>\n",
       "      <td>0.03237</td>\n",
       "      <td>0.0</td>\n",
       "      <td>2.18</td>\n",
       "      <td>0</td>\n",
       "      <td>0.458</td>\n",
       "      <td>6.998</td>\n",
       "      <td>45.8</td>\n",
       "      <td>6.0622</td>\n",
       "      <td>3</td>\n",
       "      <td>222</td>\n",
       "      <td>18.7</td>\n",
       "      <td>394.63</td>\n",
       "      <td>2.94</td>\n",
       "      <td>33.4</td>\n",
       "      <td>Level 4</td>\n",
       "      <td>0.658555</td>\n",
       "      <td>0.648936</td>\n",
       "      <td>0.033389</td>\n",
       "    </tr>\n",
       "    <tr>\n",
       "      <th>4</th>\n",
       "      <td>0.06905</td>\n",
       "      <td>0.0</td>\n",
       "      <td>2.18</td>\n",
       "      <td>0</td>\n",
       "      <td>0.458</td>\n",
       "      <td>7.147</td>\n",
       "      <td>54.2</td>\n",
       "      <td>6.0622</td>\n",
       "      <td>3</td>\n",
       "      <td>222</td>\n",
       "      <td>18.7</td>\n",
       "      <td>396.90</td>\n",
       "      <td>5.33</td>\n",
       "      <td>36.2</td>\n",
       "      <td>Level 4</td>\n",
       "      <td>0.687105</td>\n",
       "      <td>0.648936</td>\n",
       "      <td>0.099338</td>\n",
       "    </tr>\n",
       "  </tbody>\n",
       "</table>\n",
       "</div>"
      ],
      "text/plain": [
       "      CRIM    ZN  INDUS  CHAS    NOX     RM   AGE     DIS  RAD  TAX  PTRATIO  \\\n",
       "0  0.00632  18.0   2.31     0  0.538  6.575  65.2  4.0900    1  296     15.3   \n",
       "1  0.02731   0.0   7.07     0  0.469  6.421  78.9  4.9671    2  242     17.8   \n",
       "2  0.02729   0.0   7.07     0  0.469  7.185  61.1  4.9671    2  242     17.8   \n",
       "3  0.03237   0.0   2.18     0  0.458  6.998  45.8  6.0622    3  222     18.7   \n",
       "4  0.06905   0.0   2.18     0  0.458  7.147  54.2  6.0622    3  222     18.7   \n",
       "\n",
       "    BLACK  LSTAT  MEDV MEDV_Category      RM_N  PTRATIO_N   LSTAT_N  \n",
       "0  396.90   4.98  24.0       Level 3  0.577505   0.287234  0.089680  \n",
       "1  396.90   9.14  21.6       Level 3  0.547998   0.553191  0.204470  \n",
       "2  392.83   4.03  34.7       Level 4  0.694386   0.553191  0.063466  \n",
       "3  394.63   2.94  33.4       Level 4  0.658555   0.648936  0.033389  \n",
       "4  396.90   5.33  36.2       Level 4  0.687105   0.648936  0.099338  "
      ]
     },
     "execution_count": 6,
     "metadata": {},
     "output_type": "execute_result"
    }
   ],
   "source": [
    "df['RM_N'] = 0.0\n",
    "df['PTRATIO_N'] = 0.0\n",
    "df['LSTAT_N'] = 0.0\n",
    "df['RM_N'] = preprocessing.MinMaxScaler(feature_range=(0,1)).fit_transform(df['RM'])\n",
    "df['PTRATIO_N'] = preprocessing.MinMaxScaler().fit_transform(df['PTRATIO'])\n",
    "df['LSTAT_N'] = preprocessing.MinMaxScaler().fit_transform(df['LSTAT'])\n",
    "df.head()"
   ]
  },
  {
   "cell_type": "code",
   "execution_count": 7,
   "metadata": {
    "collapsed": false
   },
   "outputs": [
    {
     "data": {
      "text/html": [
       "<div>\n",
       "<table border=\"1\" class=\"dataframe\">\n",
       "  <thead>\n",
       "    <tr style=\"text-align: right;\">\n",
       "      <th></th>\n",
       "      <th>MEDV_Category</th>\n",
       "      <th>RM_N</th>\n",
       "      <th>PTRATIO_N</th>\n",
       "      <th>LSTAT_N</th>\n",
       "    </tr>\n",
       "  </thead>\n",
       "  <tbody>\n",
       "    <tr>\n",
       "      <th>0</th>\n",
       "      <td>Level 3</td>\n",
       "      <td>0.577505</td>\n",
       "      <td>0.287234</td>\n",
       "      <td>0.089680</td>\n",
       "    </tr>\n",
       "    <tr>\n",
       "      <th>1</th>\n",
       "      <td>Level 3</td>\n",
       "      <td>0.547998</td>\n",
       "      <td>0.553191</td>\n",
       "      <td>0.204470</td>\n",
       "    </tr>\n",
       "    <tr>\n",
       "      <th>2</th>\n",
       "      <td>Level 4</td>\n",
       "      <td>0.694386</td>\n",
       "      <td>0.553191</td>\n",
       "      <td>0.063466</td>\n",
       "    </tr>\n",
       "    <tr>\n",
       "      <th>3</th>\n",
       "      <td>Level 4</td>\n",
       "      <td>0.658555</td>\n",
       "      <td>0.648936</td>\n",
       "      <td>0.033389</td>\n",
       "    </tr>\n",
       "    <tr>\n",
       "      <th>4</th>\n",
       "      <td>Level 4</td>\n",
       "      <td>0.687105</td>\n",
       "      <td>0.648936</td>\n",
       "      <td>0.099338</td>\n",
       "    </tr>\n",
       "  </tbody>\n",
       "</table>\n",
       "</div>"
      ],
      "text/plain": [
       "  MEDV_Category      RM_N  PTRATIO_N   LSTAT_N\n",
       "0       Level 3  0.577505   0.287234  0.089680\n",
       "1       Level 3  0.547998   0.553191  0.204470\n",
       "2       Level 4  0.694386   0.553191  0.063466\n",
       "3       Level 4  0.658555   0.648936  0.033389\n",
       "4       Level 4  0.687105   0.648936  0.099338"
      ]
     },
     "execution_count": 7,
     "metadata": {},
     "output_type": "execute_result"
    }
   ],
   "source": [
    "df2 = df[['MEDV_Category', 'RM_N', 'PTRATIO_N', 'LSTAT_N']].copy()\n",
    "df2.head()"
   ]
  },
  {
   "cell_type": "markdown",
   "metadata": {},
   "source": [
    "## Question 3.  \n",
    "\n",
    "+ Run a k-NN classifier with 5 nearest neighbors and report your misclassification error; set weights to uniform\n",
    "+ Calculate your misclassification error on the training set"
   ]
  },
  {
   "cell_type": "code",
   "execution_count": 8,
   "metadata": {
    "collapsed": false
   },
   "outputs": [
    {
     "name": "stdout",
     "output_type": "stream",
     "text": [
      "Misclassification rate is 0.211462450593\n"
     ]
    }
   ],
   "source": [
    "from sklearn import neighbors\n",
    "\n",
    "knn = neighbors.KNeighborsClassifier(n_neighbors=5, weights='uniform')\n",
    "knn.fit(df2.iloc[:,1:], df2.MEDV_Category)\n",
    "\n",
    "true = knn.score(df2.iloc[:,1:], df2.MEDV_Category)\n",
    "mis = 1 - true\n",
    "print 'Misclassification rate is', mis"
   ]
  },
  {
   "cell_type": "markdown",
   "metadata": {},
   "source": [
    "Answer: TODO"
   ]
  },
  {
   "cell_type": "markdown",
   "metadata": {},
   "source": [
    "## Question 4. \n",
    "+ Is this error reliable? \n",
    "+ What could we do to make it better?"
   ]
  },
  {
   "cell_type": "markdown",
   "metadata": {},
   "source": [
    "yes, since we have normalized the data, the error is reliable.\n",
    "We can change number of neighbors to higher or lower to see if the misclassification rate goes up or down. "
   ]
  },
  {
   "cell_type": "markdown",
   "metadata": {},
   "source": [
    "## Question 5.  \n",
    "+ Now use 10-fold cross-validation to choose the most efficient `k`"
   ]
  },
  {
   "cell_type": "code",
   "execution_count": 9,
   "metadata": {
    "collapsed": false
   },
   "outputs": [
    {
     "data": {
      "text/plain": [
       "[mean: 0.60474, std: 0.09211, params: {'n_neighbors': 1},\n",
       " mean: 0.64229, std: 0.08556, params: {'n_neighbors': 2},\n",
       " mean: 0.65020, std: 0.09816, params: {'n_neighbors': 3},\n",
       " mean: 0.65810, std: 0.08049, params: {'n_neighbors': 4},\n",
       " mean: 0.65217, std: 0.09627, params: {'n_neighbors': 5},\n",
       " mean: 0.66601, std: 0.08487, params: {'n_neighbors': 6},\n",
       " mean: 0.66996, std: 0.09256, params: {'n_neighbors': 7},\n",
       " mean: 0.66601, std: 0.09741, params: {'n_neighbors': 8},\n",
       " mean: 0.66798, std: 0.09654, params: {'n_neighbors': 9},\n",
       " mean: 0.66008, std: 0.10081, params: {'n_neighbors': 10},\n",
       " mean: 0.65613, std: 0.09384, params: {'n_neighbors': 11},\n",
       " mean: 0.65217, std: 0.08690, params: {'n_neighbors': 12},\n",
       " mean: 0.65613, std: 0.09673, params: {'n_neighbors': 13},\n",
       " mean: 0.65415, std: 0.09640, params: {'n_neighbors': 14},\n",
       " mean: 0.66798, std: 0.09715, params: {'n_neighbors': 15},\n",
       " mean: 0.66601, std: 0.10372, params: {'n_neighbors': 16},\n",
       " mean: 0.66403, std: 0.09415, params: {'n_neighbors': 17},\n",
       " mean: 0.67194, std: 0.09113, params: {'n_neighbors': 18},\n",
       " mean: 0.66798, std: 0.07828, params: {'n_neighbors': 19},\n",
       " mean: 0.67787, std: 0.08985, params: {'n_neighbors': 20},\n",
       " mean: 0.67589, std: 0.09010, params: {'n_neighbors': 21},\n",
       " mean: 0.68577, std: 0.08879, params: {'n_neighbors': 22},\n",
       " mean: 0.67589, std: 0.08553, params: {'n_neighbors': 23},\n",
       " mean: 0.67984, std: 0.08672, params: {'n_neighbors': 24},\n",
       " mean: 0.67589, std: 0.09077, params: {'n_neighbors': 25},\n",
       " mean: 0.68972, std: 0.08349, params: {'n_neighbors': 26},\n",
       " mean: 0.68182, std: 0.09162, params: {'n_neighbors': 27},\n",
       " mean: 0.67984, std: 0.09042, params: {'n_neighbors': 28},\n",
       " mean: 0.67787, std: 0.09498, params: {'n_neighbors': 29},\n",
       " mean: 0.68577, std: 0.09113, params: {'n_neighbors': 30},\n",
       " mean: 0.68182, std: 0.09161, params: {'n_neighbors': 31},\n",
       " mean: 0.68577, std: 0.08421, params: {'n_neighbors': 32},\n",
       " mean: 0.67787, std: 0.08347, params: {'n_neighbors': 33},\n",
       " mean: 0.68379, std: 0.09099, params: {'n_neighbors': 34},\n",
       " mean: 0.66798, std: 0.08791, params: {'n_neighbors': 35},\n",
       " mean: 0.67589, std: 0.08362, params: {'n_neighbors': 36},\n",
       " mean: 0.66798, std: 0.09049, params: {'n_neighbors': 37},\n",
       " mean: 0.66798, std: 0.09312, params: {'n_neighbors': 38},\n",
       " mean: 0.67194, std: 0.09196, params: {'n_neighbors': 39},\n",
       " mean: 0.66798, std: 0.09207, params: {'n_neighbors': 40},\n",
       " mean: 0.66008, std: 0.09377, params: {'n_neighbors': 41},\n",
       " mean: 0.66008, std: 0.10005, params: {'n_neighbors': 42},\n",
       " mean: 0.65810, std: 0.09251, params: {'n_neighbors': 43},\n",
       " mean: 0.65613, std: 0.08932, params: {'n_neighbors': 44},\n",
       " mean: 0.65020, std: 0.09093, params: {'n_neighbors': 45},\n",
       " mean: 0.65217, std: 0.08941, params: {'n_neighbors': 46},\n",
       " mean: 0.65020, std: 0.09164, params: {'n_neighbors': 47},\n",
       " mean: 0.65415, std: 0.09199, params: {'n_neighbors': 48},\n",
       " mean: 0.64822, std: 0.09161, params: {'n_neighbors': 49},\n",
       " mean: 0.65217, std: 0.09938, params: {'n_neighbors': 50},\n",
       " mean: 0.64625, std: 0.09631, params: {'n_neighbors': 51},\n",
       " mean: 0.65217, std: 0.10737, params: {'n_neighbors': 52},\n",
       " mean: 0.64822, std: 0.09352, params: {'n_neighbors': 53},\n",
       " mean: 0.65613, std: 0.10081, params: {'n_neighbors': 54},\n",
       " mean: 0.64229, std: 0.09206, params: {'n_neighbors': 55},\n",
       " mean: 0.64032, std: 0.09196, params: {'n_neighbors': 56},\n",
       " mean: 0.64229, std: 0.09597, params: {'n_neighbors': 57},\n",
       " mean: 0.64032, std: 0.10356, params: {'n_neighbors': 58},\n",
       " mean: 0.63439, std: 0.09607, params: {'n_neighbors': 59},\n",
       " mean: 0.63636, std: 0.09821, params: {'n_neighbors': 60},\n",
       " mean: 0.63439, std: 0.08754, params: {'n_neighbors': 61},\n",
       " mean: 0.63241, std: 0.09365, params: {'n_neighbors': 62},\n",
       " mean: 0.63043, std: 0.08162, params: {'n_neighbors': 63},\n",
       " mean: 0.62846, std: 0.08878, params: {'n_neighbors': 64},\n",
       " mean: 0.62253, std: 0.08364, params: {'n_neighbors': 65},\n",
       " mean: 0.62451, std: 0.09044, params: {'n_neighbors': 66},\n",
       " mean: 0.62253, std: 0.08594, params: {'n_neighbors': 67},\n",
       " mean: 0.62055, std: 0.08996, params: {'n_neighbors': 68},\n",
       " mean: 0.61462, std: 0.08046, params: {'n_neighbors': 69},\n",
       " mean: 0.61858, std: 0.08288, params: {'n_neighbors': 70},\n",
       " mean: 0.62055, std: 0.07106, params: {'n_neighbors': 71},\n",
       " mean: 0.62253, std: 0.06938, params: {'n_neighbors': 72},\n",
       " mean: 0.62055, std: 0.06893, params: {'n_neighbors': 73},\n",
       " mean: 0.61858, std: 0.06786, params: {'n_neighbors': 74},\n",
       " mean: 0.61858, std: 0.06786, params: {'n_neighbors': 75},\n",
       " mean: 0.62451, std: 0.06810, params: {'n_neighbors': 76},\n",
       " mean: 0.61858, std: 0.06898, params: {'n_neighbors': 77},\n",
       " mean: 0.62055, std: 0.07770, params: {'n_neighbors': 78},\n",
       " mean: 0.61660, std: 0.07624, params: {'n_neighbors': 79},\n",
       " mean: 0.60870, std: 0.07644, params: {'n_neighbors': 80},\n",
       " mean: 0.61067, std: 0.06772, params: {'n_neighbors': 81},\n",
       " mean: 0.60870, std: 0.07282, params: {'n_neighbors': 82},\n",
       " mean: 0.61462, std: 0.06614, params: {'n_neighbors': 83},\n",
       " mean: 0.61067, std: 0.06925, params: {'n_neighbors': 84},\n",
       " mean: 0.60870, std: 0.07609, params: {'n_neighbors': 85},\n",
       " mean: 0.61067, std: 0.06567, params: {'n_neighbors': 86},\n",
       " mean: 0.60474, std: 0.06417, params: {'n_neighbors': 87},\n",
       " mean: 0.60870, std: 0.05661, params: {'n_neighbors': 88},\n",
       " mean: 0.60277, std: 0.06643, params: {'n_neighbors': 89},\n",
       " mean: 0.60672, std: 0.05818, params: {'n_neighbors': 90},\n",
       " mean: 0.60277, std: 0.06119, params: {'n_neighbors': 91},\n",
       " mean: 0.60672, std: 0.06178, params: {'n_neighbors': 92},\n",
       " mean: 0.60277, std: 0.06696, params: {'n_neighbors': 93},\n",
       " mean: 0.60277, std: 0.07353, params: {'n_neighbors': 94},\n",
       " mean: 0.60079, std: 0.07142, params: {'n_neighbors': 95},\n",
       " mean: 0.59881, std: 0.08317, params: {'n_neighbors': 96},\n",
       " mean: 0.59881, std: 0.07229, params: {'n_neighbors': 97},\n",
       " mean: 0.58893, std: 0.07817, params: {'n_neighbors': 98},\n",
       " mean: 0.58696, std: 0.08527, params: {'n_neighbors': 99}]"
      ]
     },
     "execution_count": 9,
     "metadata": {},
     "output_type": "execute_result"
    }
   ],
   "source": [
    "from sklearn import grid_search, cross_validation\n",
    "import matplotlib.pyplot as plt\n",
    "\n",
    "k = range(1, 100)# some *list of numbers*! Make this go to 100!\n",
    "params = {\"n_neighbors\": k}# Specify the parameter you're changing as a dictionary key\n",
    "            # Specify the *list of numbers* as the dictionary value!\n",
    "\n",
    "kf = cross_validation.KFold(len(df2), n_folds = 10)\n",
    "gs = grid_search.GridSearchCV(\n",
    "    estimator=neighbors.KNeighborsClassifier(weights='uniform'),\n",
    "    param_grid=params,\n",
    "    cv=kf,\n",
    ")\n",
    "gs.fit(df2.iloc[:,1:], df2.MEDV_Category)\n",
    "gs.grid_scores_"
   ]
  },
  {
   "cell_type": "markdown",
   "metadata": {},
   "source": [
    "## Question 6.  \n",
    "\n",
    "+ Explain your findings\n",
    "+ What were your best parameters?\n",
    "+ What was the best k?\n",
    "+ What was the best model?"
   ]
  },
  {
   "cell_type": "markdown",
   "metadata": {},
   "source": [
    "The mean is the accuracy of the K-nearest neighbor classifier, for each value of n_neighbors\n",
    " mean: 0.68577, std: 0.08879, params: {'n_neighbors': 22}\n",
    "k = 22 - seems a bit high though\n",
    "What was the best model? I didn't quite understand this question, we are using only the kNN classifier model here"
   ]
  },
  {
   "cell_type": "markdown",
   "metadata": {},
   "source": [
    "## Question 7.  \n",
    "\n",
    "+ Train your model with the optimal `k` you found above \n",
    "+ (don't worry if it changes from time to time - if that is the case use the one that is usually the best)"
   ]
  },
  {
   "cell_type": "code",
   "execution_count": 10,
   "metadata": {
    "collapsed": false
   },
   "outputs": [
    {
     "name": "stdout",
     "output_type": "stream",
     "text": [
      "Misclassification rate is 0.264822134387\n"
     ]
    }
   ],
   "source": [
    "knn2 = neighbors.KNeighborsClassifier(n_neighbors=22, weights='uniform')\n",
    "knn2.fit(df2.iloc[:,1:], df2.MEDV_Category)\n",
    "\n",
    "true2 = knn2.score(df2.iloc[:,1:], df2.MEDV_Category)\n",
    "mis2 = 1 - true2\n",
    "print 'Misclassification rate is', mis2"
   ]
  },
  {
   "cell_type": "markdown",
   "metadata": {},
   "source": [
    "Answer: TODO"
   ]
  },
  {
   "cell_type": "markdown",
   "metadata": {},
   "source": [
    "## Question 8.  \n",
    "\n",
    "+ After training your model with that `k`, \n",
    "+ use it to *predict* the class of a neighborhood with `RM = 2`, `PRATIO = 19`, and `LSTAT = 3.5`\n",
    "+ If you are confused, check out the sklearn documentation for KNN"
   ]
  },
  {
   "cell_type": "code",
   "execution_count": 11,
   "metadata": {
    "collapsed": false
   },
   "outputs": [],
   "source": [
    "#first, i will try to normalize these values\n",
    "RM_max = df['RM'].max()\n",
    "RM_min = df['RM'].min()\n",
    "PTRATIO_max = df['PTRATIO'].max()\n",
    "PTRATIO_min = df['PTRATIO'].min()\n",
    "LSTAT_max = df['LSTAT'].max()\n",
    "LSTAT_min = df['LSTAT'].min()\n",
    "\n",
    "RM_predict = (2 - RM_min)/(RM_max - RM_min)\n",
    "PTRATIO_predict = (19 - PTRATIO_min)/(PTRATIO_max - PTRATIO_min)\n",
    "LSTAT_predict = (3.5 - LSTAT_min)/(LSTAT_max - LSTAT_min)"
   ]
  },
  {
   "cell_type": "code",
   "execution_count": 12,
   "metadata": {
    "collapsed": false
   },
   "outputs": [],
   "source": [
    "pred = [RM_predict, PTRATIO_predict, LSTAT_predict]\n",
    "pred\n",
    "\n",
    "#now without normalization\n",
    "no_norm = [2,19,3.5]"
   ]
  },
  {
   "cell_type": "code",
   "execution_count": 17,
   "metadata": {
    "collapsed": false
   },
   "outputs": [
    {
     "name": "stdout",
     "output_type": "stream",
     "text": [
      "The predicted MEDV_Category is  ['Level 2']\n"
     ]
    },
    {
     "name": "stderr",
     "output_type": "stream",
     "text": [
      "C:\\Users\\niyer\\AppData\\Local\\Continuum\\Anaconda2\\lib\\site-packages\\sklearn\\utils\\validation.py:395: DeprecationWarning: Passing 1d arrays as data is deprecated in 0.17 and will raise ValueError in 0.19. Reshape your data either using X.reshape(-1, 1) if your data has a single feature or X.reshape(1, -1) if it contains a single sample.\n",
      "  DeprecationWarning)\n"
     ]
    }
   ],
   "source": [
    "print \"The predicted MEDV_Category is \", knn2.predict(pred)\n",
    "#getting Level 2 as the answer, but it is interesting that the normalization value of RM is less than 0.\n",
    "#Level 2 is predict for input with or without normalization"
   ]
  },
  {
   "cell_type": "markdown",
   "metadata": {},
   "source": [
    "Answer: TODO"
   ]
  }
 ],
 "metadata": {
  "anaconda-cloud": {},
  "kernelspec": {
   "display_name": "Python [Root]",
   "language": "python",
   "name": "Python [Root]"
  },
  "language_info": {
   "codemirror_mode": {
    "name": "ipython",
    "version": 2
   },
   "file_extension": ".py",
   "mimetype": "text/x-python",
   "name": "python",
   "nbconvert_exporter": "python",
   "pygments_lexer": "ipython2",
   "version": "2.7.12"
  }
 },
 "nbformat": 4,
 "nbformat_minor": 0
}
